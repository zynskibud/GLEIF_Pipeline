{
 "cells": [
  {
   "cell_type": "code",
   "execution_count": null,
   "metadata": {},
   "outputs": [],
   "source": [
    "import sqlite3\n",
    "\n",
    "# Replace 'your_database.db' with the path to your SQLite database file\n",
    "database_path = 'GLEIF_Data.db'\n",
    "\n",
    "# Replace 'your_table_name' with the name of the table you want to drop\n",
    "table_name = 'Level_1_Data'\n",
    "\n",
    "# Connect to the SQLite database\n",
    "conn = sqlite3.connect(database_path)\n",
    "\n",
    "# Create a cursor object to execute SQL commands\n",
    "cursor = conn.cursor()\n",
    "\n",
    "# SQL command to drop the table if it exists\n",
    "drop_table_sql = f\"DROP TABLE IF EXISTS {table_name};\"\n",
    "\n",
    "try:\n",
    "    # Execute the SQL command to drop the table\n",
    "    cursor.execute(drop_table_sql)\n",
    "    # Commit the changes to the database\n",
    "    conn.commit()\n",
    "    print(f\"Table '{table_name}' dropped successfully.\")\n",
    "except sqlite3.Error as e:\n",
    "    print(f\"An error occurred while dropping the table: {e}\")\n",
    "finally:\n",
    "    # Close the cursor and connection\n",
    "    cursor.close()\n",
    "    conn.close()\n"
   ]
  },
  {
   "cell_type": "code",
   "execution_count": null,
   "metadata": {},
   "outputs": [],
   "source": []
  }
 ],
 "metadata": {
  "kernelspec": {
   "display_name": "Python 3",
   "language": "python",
   "name": "python3"
  },
  "language_info": {
   "codemirror_mode": {
    "name": "ipython",
    "version": 3
   },
   "file_extension": ".py",
   "mimetype": "text/x-python",
   "name": "python",
   "nbconvert_exporter": "python",
   "pygments_lexer": "ipython3",
   "version": "3.11.4"
  }
 },
 "nbformat": 4,
 "nbformat_minor": 2
}
