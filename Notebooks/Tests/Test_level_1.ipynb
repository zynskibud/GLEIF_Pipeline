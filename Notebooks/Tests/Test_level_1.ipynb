{
 "cells": [
  {
   "cell_type": "code",
   "execution_count": 1,
   "metadata": {},
   "outputs": [],
   "source": [
    "import os\n",
    "import re\n",
    "import logging\n",
    "import psycopg2\n",
    "import sys\n",
    "import io\n",
    "import ijson\n",
    "import concurrent.futures\n",
    "import time\n",
    "from tqdm import tqdm\n",
    "from datetime import datetime, timezone\n",
    "import math\n",
    "from collections import defaultdict\n",
    "from psycopg2 import sql\n",
    "current_directory = os.getcwd()\n",
    "target_directory = os.path.abspath(os.path.join(current_directory, \"..\", \"..\"))\n",
    "sys.path.append(target_directory)\n",
    "\n",
    "from Production.Backfill import GLEIF_Backfill_Helpers\n",
    "from Infrastructure import Scraper_helpers"
   ]
  },
  {
   "cell_type": "code",
   "execution_count": 2,
   "metadata": {},
   "outputs": [],
   "source": [
    "class Testing_Level_1_data:\n",
    "    def __init__(self):\n",
    "        self.obj_scraper_helpers = Scraper_helpers.Scraper_Helpers()\n",
    "        self.obj_backfill_helpers = GLEIF_Backfill_Helpers.GLEIF_Backill_Helpers()\n",
    "    \n",
    "    def get_lei_ids(self, str_db_name=\"GLEIF_test_db\"):\n",
    "        conn = psycopg2.connect(dbname=str_db_name, user=\"Matthew_Pisinski\", password=\"matt1\", host=\"localhost\", port=\"5432\")\n",
    "        cursor = conn.cursor()\n",
    "        \n",
    "        query = \"SELECT lei FROM gleif_entity_data ORDER BY lei;\"  # ORDER BY clause\n",
    "        cursor.execute(query)\n",
    "\n",
    "        column_values = [row[0] for row in cursor.fetchall()]\n",
    "\n",
    "        cursor.close()\n",
    "        conn.close()\n",
    "\n",
    "        return column_values\n",
    "    \n",
    "    def list_subset_create(self , list_input , batch_size):\n",
    "        return [\n",
    "            list_input[i : i + batch_size] \n",
    "            for i in range(0, len(list_input), batch_size)\n",
    "        ]\n",
    "        \n",
    "    def fetch_lei_records_batch(self , batch_of_leis):\n",
    "        \"\"\"\n",
    "        Fetches LEI records for a batch of LEIs in a single request.\n",
    "        Returns the JSON list `[\"data\"]` if status=200,\n",
    "        otherwise returns an empty list or some error placeholder.\n",
    "        \"\"\"\n",
    "        base_url = \"https://api.gleif.org/api/v1/lei-records\"\n",
    "        lei_filter = \",\".join(batch_of_leis)\n",
    "        url = f\"{base_url}?page[size]=200&filter[lei]={lei_filter}\"\n",
    "        \n",
    "        # Perform the request using your custom function\n",
    "        response = self.obj_scraper_helpers.spotty_network(url=url)\n",
    "        \n",
    "        if response.status_code == 200:\n",
    "            json_data = response.json()\n",
    "            return json_data.get(\"data\", [])\n",
    "        else:\n",
    "            time.sleep(60)\n",
    "            response = self.obj_scraper_helpers.spotty_network(url=url)\n",
    "            if response.status_code == 200:\n",
    "                json_data = response.json()\n",
    "                return json_data.get(\"data\", [])\n",
    "            else:\n",
    "                print(f\"bad batch {batch_of_leis}\")\n",
    "                return None\n",
    "            \n",
    "    def multithread_lei_batches(self , list_batched_leis, batch_size=100, max_workers=10):\n",
    "        \"\"\"\n",
    "        1. Splits the LEIs into batches of `batch_size`.\n",
    "        2. Multi-threads the requests for each batch using `ThreadPoolExecutor`.\n",
    "        3. Collects `[\"data\"]` from each batch-response into one big list.\n",
    "        \"\"\"\n",
    "        # Create sub-lists (batches) of LEIs\n",
    "        list_more_batches_leis = self.list_subset_create(batch_size = batch_size , list_input = list_batched_leis)\n",
    "        \n",
    "        list_data = []\n",
    "        with concurrent.futures.ThreadPoolExecutor(max_workers=max_workers) as executor:\n",
    "            # Submit a batch request to the executor\n",
    "            future_to_batch = {\n",
    "                executor.submit(self.fetch_lei_records_batch, batch): batch \n",
    "                for batch in list_more_batches_leis\n",
    "            }\n",
    "            \n",
    "            # As each future completes, extend the `all_data` list with the result\n",
    "            for future in concurrent.futures.as_completed(future_to_batch):\n",
    "                batch_result = future.result()  # This should be a list of JSON items\n",
    "                list_data.extend(batch_result)\n",
    "        \n",
    "        return list_data\n",
    "    \n",
    "    \"\"\"def get_lei_data_limit(self , str_table_name, max_rows=100000):\n",
    "        conn = psycopg2.connect(dbname=\"GLEIF_test_db\", user=\"Matthew_Pisinski\", password=\"matt1\", host=\"localhost\", port=\"5432\")\n",
    "        cursor = conn.cursor()\n",
    "\n",
    "        # Use ORDER BY on the same column to match the ordering\n",
    "        query = f\"SELECT * FROM {str_table_name} ORDER BY lei LIMIT %s;\"\n",
    "        cursor.execute(query, (max_rows,))\n",
    "\n",
    "        results = cursor.fetchall()\n",
    "\n",
    "        # Convert each row to a list, optionally exclude the first column\n",
    "        all_data = [list(row)[1:] for row in results]\n",
    "\n",
    "        cursor.close()\n",
    "        conn.close()\n",
    "\n",
    "        return all_data\"\"\"\n",
    "    \n",
    "    \n",
    "    def get_all_lei_data(self , str_table_name):\n",
    "        conn = psycopg2.connect(\n",
    "                dbname=\"GLEIF_test_db\",\n",
    "                user=\"Matthew_Pisinski\",\n",
    "                password=\"matt1\",\n",
    "                host=\"localhost\",\n",
    "                port=\"5432\"\n",
    "            )\n",
    "        cursor = conn.cursor()\n",
    "\n",
    "        # Define the SQL query to fetch all rows, ordered by 'lei'\n",
    "        query = f\"SELECT * FROM {str_table_name} ORDER BY lei;\"\n",
    "        cursor.execute(query)\n",
    "\n",
    "        # Retrieve all results\n",
    "        results = cursor.fetchall()\n",
    "\n",
    "        # Convert each row to a list and exclude the first column (e.g., an ID or primary key)\n",
    "        all_data = [list(row)[1:] for row in results]\n",
    "            \n",
    "        cursor.close()\n",
    "        conn.close()\n",
    "        \n",
    "        return all_data\n",
    "\n",
    "    def get_lei_data_for_leis(self, str_table_name, list_leis):\n",
    "        \"\"\"\n",
    "        Fetch all rows from the specified table where 'lei' is in the provided list of LEIs.\n",
    "        \n",
    "        Args:\n",
    "            str_table_name (str): Name of the database table.\n",
    "            list_leis (list of str): List of LEI IDs to fetch records for.\n",
    "        \n",
    "        Returns:\n",
    "            list of lists: Each inner list represents a row from the table, excluding the first column.\n",
    "        \"\"\"\n",
    "        if not list_leis:\n",
    "            return []\n",
    "\n",
    "        # Establish connection\n",
    "        conn = psycopg2.connect(\n",
    "            dbname=\"GLEIF_test_db\",\n",
    "            user=\"Matthew_Pisinski\",\n",
    "            password=\"matt1\",\n",
    "            host=\"localhost\",\n",
    "            port=\"5432\"\n",
    "        )\n",
    "        cursor = conn.cursor()\n",
    "\n",
    "        # Dynamically create placeholders based on the number of LEIs\n",
    "        placeholders = ','.join(['%s'] * len(list_leis))\n",
    "        query = sql.SQL(\"SELECT * FROM {table} WHERE lei IN ({placeholders}) ORDER BY lei;\").format(\n",
    "            table=sql.Identifier(str_table_name),\n",
    "            placeholders=sql.SQL(placeholders)\n",
    "        )\n",
    "\n",
    "        # Execute the query with the list of LEIs as parameters\n",
    "        cursor.execute(query, list_leis)\n",
    "\n",
    "        results = cursor.fetchall()\n",
    "\n",
    "        # Convert each row to a list and exclude the first column if needed\n",
    "        all_data = [list(row)[1:] for row in results]\n",
    "\n",
    "\n",
    "        cursor.close()\n",
    "        conn.close()\n",
    "\n",
    "        return all_data\n",
    "\n",
    "        \n",
    "    def get_dict_map(self , list_input):\n",
    "        dict_db_data = defaultdict(list)\n",
    "\n",
    "        for item in list_input:\n",
    "            dict_db_data[item[0]].append(item)\n",
    "\n",
    "    # Convert defaultdict to a regular dictionary (optional)\n",
    "        dict_db_data = dict(dict_db_data)\n",
    "\n",
    "        return dict_db_data   \n",
    "    \n",
    "    def unify_date(self , date_str):\n",
    "        \"\"\"\n",
    "        If there's a 'T', parse the date-time, normalize to UTC, and return 'YYYY-MM-DD'.\n",
    "        Otherwise, assume it's already just 'YYYY-MM-DD' and return it as-is.\n",
    "        \"\"\"\n",
    "        if date_str is None:\n",
    "            return None\n",
    "\n",
    "        # If there's no 'T', skip time-zone parsing entirely\n",
    "        if 'T' not in date_str:\n",
    "            return date_str  # e.g. \"1969-04-17\"\n",
    "\n",
    "        try:\n",
    "            # Replace 'Z' with '+00:00' so Python recognizes the time zone\n",
    "            dt = datetime.fromisoformat(date_str.replace('Z', '+00:00'))\n",
    "            dt_utc = dt.astimezone(timezone.utc)\n",
    "            # Return just the date portion (YYYY-MM-DD)\n",
    "            return dt_utc.strftime('%Y-%m-%d')\n",
    "        except Exception as e:\n",
    "            print(f\"Error normalizing date '{date_str}': {e}\")\n",
    "            return date_str  # Fallback: return original string\n",
    "    \n",
    "    def clean_date_string(self , list_input , date_indexes , bool_many = False):\n",
    "        if bool_many == True:\n",
    "            for sublist in list_input:\n",
    "                for idx in date_indexes:\n",
    "                    sublist[idx] = (self.unify_date(sublist[idx]))\n",
    "        else:\n",
    "            for idx in date_indexes:\n",
    "                list_input[idx] = (self.unify_date(list_input[idx]))\n",
    "            \n",
    "        return list_input\n",
    "    \n",
    "    def extract_other_names(self , dict_record):\n",
    "        \"\"\"\n",
    "        Extracts all 'otherNames_{index}_...' fields from the dictionary\n",
    "        and returns a list of arrays, one array per 'otherNames' index.\n",
    "        Each array will include [LEI, name, language, type].\n",
    "        \"\"\"\n",
    "        \n",
    "        lei = dict_record.get(\"attributes_lei\")\n",
    "        \n",
    "        # Pattern to match keys like 'attributes_entity_otherNames_1_name'\n",
    "        pattern = re.compile(r\"^attributes_entity_otherNames_(\\d+)_(\\w+)$\")\n",
    "        \n",
    "        # Dictionary to group subfields by index\n",
    "        # e.g. subdicts['1'] = {'name': 'AUTOCONT s.r.o.', 'language': 'sk', 'type': 'PREVIOUS_LEGAL_NAME'}\n",
    "        subdicts = {}\n",
    "        \n",
    "        for key, value in dict_record.items():\n",
    "            match = pattern.match(key)\n",
    "            if match:\n",
    "                index = match.group(1)  # e.g. '1'\n",
    "                field_name = match.group(2)  # e.g. 'name', 'language', 'type'\n",
    "                \n",
    "                if index not in subdicts:\n",
    "                    subdicts[index] = {}\n",
    "                \n",
    "                subdicts[index][field_name] = value\n",
    "        \n",
    "        # Build a list of arrays, each containing the LEI + the extracted fields\n",
    "        rows = []\n",
    "        for index, fields in subdicts.items():\n",
    "            # You can decide which fields to include and in which order\n",
    "            name = fields.get(\"name\")\n",
    "            language = fields.get(\"language\")\n",
    "            name_type = fields.get(\"type\")\n",
    "            \n",
    "            row = [lei, name, language, name_type]\n",
    "            rows.append(row)\n",
    "        \n",
    "        return rows\n",
    "    \n",
    "    def sort_api_data(self , list_leis , list_unsorted):\n",
    "        lei_index_map = {lei: idx for idx, lei in enumerate(list_leis)}\n",
    "\n",
    "        # 2. Sort list_all_data_flattened using this map\n",
    "        list_all_data_flattened_sorted = sorted(\n",
    "            list_unsorted,\n",
    "            key=lambda d: lei_index_map[d[\"id\"]]\n",
    "        )\n",
    "\n",
    "        return list_all_data_flattened_sorted\n",
    "    \n",
    "    def helper_test_gleif_entity_data(self , list_dict_flat):\n",
    "        list_leis_api = [dict_api[\"id\"] for dict_api in list_dict_flat]\n",
    "        list_db_data = self.get_lei_data_for_leis(list_leis = list_leis_api , str_table_name = \"gleif_entity_data\")\n",
    "        \n",
    "        for dict_flat, list_db in tqdm(zip(list_dict_flat, list_db_data), \n",
    "                                        total=len(list_dict_flat), \n",
    "                                        desc=\"Processing Records\", \n",
    "                                        unit=\"record\"):\n",
    "            list_entity_data = self.obj_backfill_helpers.get_target_values(dict_data = dict_flat, subset_string=\"attributes\" , target_keys = [\"id\" , \"legalName_name\", \"entity_jurisdiction\", \"entity_category\", \"entity_subCategory\", \"entity_legalForm_id\", \"entity_legalForm_other\", \"entity_status\", \"entity_creationDate\", \"entity_registeredAt_id\", \"entity_registeredAs\"])\n",
    "            \n",
    "            list_entity_data = self.clean_date_string(date_indexes = [8 , 8] , list_input = list_entity_data)\n",
    "            list_db = self.clean_date_string(date_indexes = [8 , 8] , list_input = list_db)\n",
    "            \n",
    "            \"\"\"date_indexes = [8, 8]  # Specify the indexes of date fields to normalize\n",
    "\n",
    "            for idx in date_indexes:\n",
    "                list_entity_data[idx] = (self.unify_date(list_entity_data[idx]))\n",
    "                list_db[idx] = (self.unify_date(list_db[idx]))\"\"\"\n",
    "                \n",
    "            if list_entity_data != list_db:\n",
    "                print(\"Assert False entity_data\")\n",
    "                display(list_entity_data)\n",
    "                display(list_db)\n",
    "            \n",
    "    def helper_test_other_names_data(self , list_dict_flat):\n",
    "        \"\"\"Testing all of the data in the gleif_other_legal_names table\"\"\"\n",
    "        \n",
    "        list_db_other_name_data = self.get_all_lei_data(str_table_name = \"gleif_other_legal_names\")\n",
    "        dict_other_name = self.get_dict_map(list_input = list_db_other_name_data)\n",
    "            \n",
    "        for dict_flat in tqdm(list_dict_flat, desc=\"Processing records\"):        \n",
    "            list_other_possible = (self.extract_other_names(dict_record = dict_flat))\n",
    "            \n",
    "            if list_other_possible:\n",
    "                for list_api_row in list_other_possible:\n",
    "                    list_api_row.pop(2)\n",
    "                    list_api_row[1], list_api_row[2] = list_api_row[2], list_api_row[1]\n",
    "                    \n",
    "                    list_db_other_name_rows = dict_other_name[list_api_row[0]]\n",
    "                    if list_api_row not in list_db_other_name_rows:\n",
    "                        print(f\"Test case failed for API row: {list_api_row}\")\n",
    "                        print(f\"Database rows for LEI {list_api_row[0]}: {list_db_other_name_rows}\")\n",
    "    \n",
    "    def helper_test_headquarters(self, list_dict_flat):\n",
    "        \"\"\"Testing all of the data in the gleif_headquartersaddress table\"\"\"\n",
    "        list_leis_api = [dict_api[\"id\"] for dict_api in list_dict_flat]\n",
    "        list_db_data = self.get_lei_data_for_leis(list_leis = list_leis_api , str_table_name = \"gleif_headquartersaddress\")\n",
    "            \n",
    "        for dict_flat, list_db in tqdm(zip(list_dict_flat, list_db_data), \n",
    "                                        total=len(list_dict_flat), \n",
    "                                        desc=\"Processing Records\", \n",
    "                                        unit=\"record\"):\n",
    "            list_hq_data = self.obj_backfill_helpers.get_target_values(dict_data = dict_flat, subset_string=\"attributes\" , target_keys = [\"id\" , \"entity_headquartersAddress_addressLines_1\", \"entity_headquartersAddress_addressLines_2\", \"entity_headquartersAddress_addressLines_3\", \"entity_headquartersAddress_addressLines_4\", \"entity_headquartersAddress_city\", \"entity_headquartersAddress_region\", \"entity_headquartersAddress_country\", \"entity_headquartersAddress_postalCode\"])\n",
    "            \n",
    "                \n",
    "            if list_hq_data != list_db:\n",
    "                print(\"Assert False hq_data\")\n",
    "                display(list_hq_data)\n",
    "                display(list_db)\n",
    "    \n",
    "    def helper_test_legal_address(self , list_dict_flat):\n",
    "        \"\"\"Testing all of the data in the gleif_legaladdress table\"\"\"\n",
    "        list_leis_api = [dict_api[\"id\"] for dict_api in list_dict_flat]\n",
    "        list_db_data = self.get_lei_data_for_leis(list_leis = list_leis_api , str_table_name = \"gleif_legaladdress\")\n",
    "            \n",
    "        for dict_flat, list_db in tqdm(zip(list_dict_flat, list_db_data), \n",
    "                                        total=len(list_dict_flat), \n",
    "                                        desc=\"Processing Records\", \n",
    "                                        unit=\"record\"):\n",
    "            list_legal_address_data = self.obj_backfill_helpers.get_target_values(dict_data = dict_flat, subset_string=\"attributes\" , target_keys = [\"id\" , \"entity_legalAddress_addressLines_1\", \"entity_legalAddress_addressLines_2\", \"entity_legalAddress_addressLines_3\", \"entity_legalAddress_addressLines_4\", \"entity_legalAddress_city\", \"entity_legalAddress_region\", \"entity_legalAddress_country\", \"entity_legalAddress_postalCode\"])\n",
    "            \n",
    "                \n",
    "            if list_legal_address_data != list_db:\n",
    "                print(\"Assert False legal_address_data\")\n",
    "                display(list_legal_address_data)\n",
    "                display(list_db)\n",
    "                \n",
    "    \n",
    "    \n",
    "    def helper_test_registration(self , list_dict_flat):\n",
    "        \"\"\"Testing all of the data in the gleif_registration_data table\"\"\"\n",
    "        list_leis_api = [dict_api[\"id\"] for dict_api in list_dict_flat]\n",
    "        list_db_data = self.get_lei_data_for_leis(list_leis = list_leis_api , str_table_name = \"gleif_registration_data\")\n",
    "            \n",
    "        for dict_flat, list_db in tqdm(zip(list_dict_flat, list_db_data), \n",
    "                                        total=len(list_dict_flat), \n",
    "                                        desc=\"Processing Records\", \n",
    "                                        unit=\"record\"):\n",
    "            list_registration_data = self.obj_backfill_helpers.get_target_values(dict_data = dict_flat, subset_string=\"attributes\" , target_keys = [\"id\" , \"registration_initialRegistrationDate\", \"registration_lastUpdateDate\", \"registration_status\", \"registration_nextRenewalDate\", \"registration_managingLou\", \"registration_corroborationLevel\", \"registration_validatedAt_id\", \"registration_validatedAs\"])\n",
    "            list_registration_data = self.clean_date_string(date_indexes = [1 , 2 , 4], list_input = list_registration_data)\n",
    "            list_db = self.clean_date_string(date_indexes = [1 , 2 , 4], list_input = list_db)\n",
    "            \n",
    "            \"\"\"date_indexes = [1, 2, 4]  # Specify the indexes of date fields to normalize\n",
    "\n",
    "            for idx in date_indexes:\n",
    "                list_registration_data[idx] = (self.unify_date(list_registration_data[idx]))\n",
    "                list_db[idx] = (self.unify_date(list_db[idx]))\"\"\"\n",
    "                \n",
    "            if list_registration_data != list_db:\n",
    "                print(\"Assert False registration_data\")\n",
    "                display(list_registration_data)\n",
    "                display(list_db)\n",
    "    \n",
    "    def helper_test_legal_events(self , list_dict_flat):\n",
    "        \"\"\"Testing all of the data in the gleif_legalentityevents table\"\"\"\n",
    "        list_db_other_name_data = self.get_all_lei_data(str_table_name = \"gleif_legalentityevents\")\n",
    "        dict_legal_events = self.get_dict_map(list_input = list_db_other_name_data)\n",
    "        \n",
    "        for dict_flat in tqdm(list_dict_flat, desc=\"Processing records\"):        \n",
    "                list_api_legal_possible = self.obj_backfill_helpers.extract_event_data(bool_test= True, dict_data = dict_flat, base_keyword = \"attributes_entity_eventGroups\" , target_keys=[\"groupType\", \"status\", \"type\", \"effectiveDate\", \"recordedDate\", \"validationDocuments\"])            \n",
    "                \n",
    "                if list_api_legal_possible:\n",
    "                    \n",
    "                    str_lei = dict_flat[\"id\"]\n",
    "                    \n",
    "                    for index, sublist in enumerate(list_api_legal_possible):\n",
    "                        # Prepend str_lei to the sublist\n",
    "                        list_api_legal_possible[index] = [str_lei] + sublist\n",
    "                    \n",
    "                    list_api_legal_possible = self.clean_date_string(bool_many=True, date_indexes=[4,5], list_input= list_api_legal_possible)\n",
    "                    \n",
    "                    \n",
    "                    for list_api_legal in list_api_legal_possible:\n",
    "                        \n",
    "                        list_db_legal_rows = dict_legal_events[str_lei]\n",
    "                        \n",
    "                        list_db_legal_rows = self.clean_date_string(bool_many=True, date_indexes=[4,5], list_input=list_db_legal_rows)\n",
    "                        \n",
    "                        if list_api_legal not in list_db_legal_rows:\n",
    "                            print(f\"Test case failed for API row: {list_api_legal}\")\n",
    "                            print(f\"Database rows for LEI {list_api_legal[0]}: {list_db_legal_rows}\")\n",
    "                            \n",
    "    def testing_level_1_data(self , subset_size = 100000):\n",
    "        list_leis = self.get_lei_ids()\n",
    "        \n",
    "        list_batched = self.list_subset_create(list_input = list_leis , batch_size = subset_size)\n",
    "        #int_total_num_subsets = math.ceil(len(list_leis)/list_batched)\n",
    "        \n",
    "        for list_leis in list_batched:\n",
    "            list_all_data = self.multithread_lei_batches(list_batched_leis = list_leis , batch_size = 200 , max_workers = 5) \n",
    "            list_all_data_flattened = [self.obj_backfill_helpers.flatten_dict(dict_input = dict_data) for dict_data in list_all_data]\n",
    "            list_all_data_flattened_sorted = self.sort_api_data(list_leis = list_leis , list_unsorted = list_all_data_flattened)\n",
    "            self.helper_test_gleif_entity_data(list_dict_flat = list_all_data_flattened_sorted)\n",
    "            self.helper_test_other_names_data(list_dict_flat = list_all_data_flattened_sorted)\n",
    "            self.helper_test_headquarters(list_dict_flat = list_all_data_flattened_sorted)\n",
    "            self.helper_test_legal_address(list_dict_flat = list_all_data_flattened_sorted)\n",
    "            #self.helper_test_registration(list_dict_flat = list_all_data_flattened_sorted)\n",
    "            self.helper_test_legal_events(list_dict_flat = list_all_data_flattened_sorted)\n",
    "         \n",
    "    "
   ]
  },
  {
   "cell_type": "code",
   "execution_count": null,
   "metadata": {},
   "outputs": [
    {
     "name": "stderr",
     "output_type": "stream",
     "text": [
      "Processing Records:   6%|▌         | 5605/100000 [00:00<00:03, 28166.10record/s]"
     ]
    },
    {
     "name": "stdout",
     "output_type": "stream",
     "text": [
      "Assert False entity_data\n"
     ]
    },
    {
     "data": {
      "text/plain": [
       "['15955Y83JMXGHHL9WI28',\n",
       " 'MARTVALD ASSETS AS',\n",
       " 'NO',\n",
       " 'GENERAL',\n",
       " None,\n",
       " 'YI42',\n",
       " None,\n",
       " 'ACTIVE',\n",
       " '2023-05-24',\n",
       " 'RA000472',\n",
       " '931 588 192']"
      ]
     },
     "metadata": {},
     "output_type": "display_data"
    },
    {
     "data": {
      "text/plain": [
       "['15955Y83JMXGHHL9WI28',\n",
       " 'MARTVALD ASSETS AS',\n",
       " 'NO',\n",
       " 'GENERAL',\n",
       " None,\n",
       " 'YI42',\n",
       " None,\n",
       " 'INACTIVE',\n",
       " '2023-05-24',\n",
       " 'RA000472',\n",
       " '931 588 192']"
      ]
     },
     "metadata": {},
     "output_type": "display_data"
    },
    {
     "name": "stderr",
     "output_type": "stream",
     "text": [
      "Processing Records:  18%|█▊        | 18495/100000 [00:00<00:02, 30763.55record/s]"
     ]
    },
    {
     "name": "stdout",
     "output_type": "stream",
     "text": [
      "Assert False entity_data\n"
     ]
    },
    {
     "data": {
      "text/plain": [
       "['2138002TVM8VXUB9A180',\n",
       " 'SIGNUM RATED II LIMITED',\n",
       " 'KY',\n",
       " 'GENERAL',\n",
       " None,\n",
       " '8888',\n",
       " 'Exempt Company',\n",
       " 'ACTIVE',\n",
       " '2004-10-05',\n",
       " 'RA000086',\n",
       " 'CR-140196']"
      ]
     },
     "metadata": {},
     "output_type": "display_data"
    },
    {
     "data": {
      "text/plain": [
       "['2138002TVM8VXUB9A180',\n",
       " 'SIGNUM RATED II LIMITED',\n",
       " 'KY',\n",
       " 'GENERAL',\n",
       " None,\n",
       " '8888',\n",
       " 'Exempt Company',\n",
       " 'ACTIVE',\n",
       " '2004-10-05',\n",
       " 'RA000086',\n",
       " '140196']"
      ]
     },
     "metadata": {},
     "output_type": "display_data"
    },
    {
     "name": "stderr",
     "output_type": "stream",
     "text": [
      "Processing Records:  54%|█████▍    | 54250/100000 [00:01<00:01, 33964.78record/s]"
     ]
    },
    {
     "name": "stdout",
     "output_type": "stream",
     "text": [
      "Assert False entity_data\n"
     ]
    },
    {
     "data": {
      "text/plain": [
       "['21380085NPGXFT3MMY37',\n",
       " 'SIGNUM FINANCE AI LIMITED',\n",
       " 'KY',\n",
       " 'GENERAL',\n",
       " None,\n",
       " '8888',\n",
       " 'Exempt Company',\n",
       " 'ACTIVE',\n",
       " '2008-02-19',\n",
       " 'RA000086',\n",
       " 'DB-205173']"
      ]
     },
     "metadata": {},
     "output_type": "display_data"
    },
    {
     "data": {
      "text/plain": [
       "['21380085NPGXFT3MMY37',\n",
       " 'Signum Finance AI Limited',\n",
       " 'KY',\n",
       " 'GENERAL',\n",
       " None,\n",
       " '8888',\n",
       " 'Exempt Company',\n",
       " 'ACTIVE',\n",
       " '2008-02-19',\n",
       " 'RA000086',\n",
       " '205173']"
      ]
     },
     "metadata": {},
     "output_type": "display_data"
    },
    {
     "name": "stderr",
     "output_type": "stream",
     "text": [
      "Processing Records: 100%|██████████| 100000/100000 [00:03<00:00, 32082.54record/s]\n",
      "Processing records: 100%|██████████| 100000/100000 [00:01<00:00, 69143.85it/s]\n",
      "Processing Records: 100%|██████████| 100000/100000 [00:02<00:00, 45748.13record/s]\n",
      "Processing Records: 100%|██████████| 100000/100000 [00:01<00:00, 53411.55record/s]\n",
      "Processing records: 100%|██████████| 100000/100000 [00:01<00:00, 76498.13it/s]\n",
      "Processing Records: 100%|██████████| 100000/100000 [00:03<00:00, 32890.99record/s]\n",
      "Processing records: 100%|██████████| 100000/100000 [00:01<00:00, 65672.08it/s]\n",
      "Processing Records:  96%|█████████▌| 96239/100000 [00:02<00:00, 45593.38record/s]"
     ]
    },
    {
     "name": "stdout",
     "output_type": "stream",
     "text": [
      "Assert False hq_data\n"
     ]
    },
    {
     "data": {
      "text/plain": [
       "['213800TQ7Q5V1RPOCU36',\n",
       " 'Queensgate House',\n",
       " '113 South Church Street',\n",
       " None,\n",
       " None,\n",
       " 'George Town',\n",
       " None,\n",
       " 'KY',\n",
       " 'KY1-1102']"
      ]
     },
     "metadata": {},
     "output_type": "display_data"
    },
    {
     "data": {
      "text/plain": [
       "['213800TQ7Q5V1RPOCU36',\n",
       " 'Queensgate House',\n",
       " '113 South Church Street',\n",
       " 'P. O. Box 1093',\n",
       " None,\n",
       " 'George Town',\n",
       " None,\n",
       " 'KY',\n",
       " 'KY1-1102']"
      ]
     },
     "metadata": {},
     "output_type": "display_data"
    },
    {
     "name": "stderr",
     "output_type": "stream",
     "text": [
      "Processing Records: 100%|██████████| 100000/100000 [00:02<00:00, 44480.19record/s]\n",
      "Processing Records:  92%|█████████▏| 92451/100000 [00:01<00:00, 51632.58record/s]"
     ]
    },
    {
     "name": "stdout",
     "output_type": "stream",
     "text": [
      "Assert False legal_address_data\n"
     ]
    },
    {
     "data": {
      "text/plain": [
       "['213800TQ7Q5V1RPOCU36',\n",
       " 'Queensgate House',\n",
       " '113 South Church Street',\n",
       " None,\n",
       " None,\n",
       " 'George Town',\n",
       " None,\n",
       " 'KY',\n",
       " 'KY1-1102']"
      ]
     },
     "metadata": {},
     "output_type": "display_data"
    },
    {
     "data": {
      "text/plain": [
       "['213800TQ7Q5V1RPOCU36',\n",
       " 'Queensgate House',\n",
       " '113 South Church Street',\n",
       " 'P. O. Box 1093',\n",
       " None,\n",
       " 'George Town',\n",
       " None,\n",
       " 'KY',\n",
       " 'KY1-1102']"
      ]
     },
     "metadata": {},
     "output_type": "display_data"
    },
    {
     "name": "stderr",
     "output_type": "stream",
     "text": [
      "Processing Records: 100%|██████████| 100000/100000 [00:01<00:00, 51412.95record/s]\n",
      "Processing records: 100%|██████████| 100000/100000 [00:01<00:00, 74688.24it/s]\n",
      "Processing Records:   0%|          | 0/100000 [00:00<?, ?record/s]"
     ]
    },
    {
     "name": "stdout",
     "output_type": "stream",
     "text": [
      "Assert False entity_data\n"
     ]
    },
    {
     "data": {
      "text/plain": [
       "['213800U6Q41HMWN2VX61',\n",
       " 'SIGNUM RATED LIMITED',\n",
       " 'KY',\n",
       " 'GENERAL',\n",
       " None,\n",
       " '8888',\n",
       " 'Exempt Company',\n",
       " 'ACTIVE',\n",
       " '2003-11-13',\n",
       " 'RA000086',\n",
       " 'CR-130633']"
      ]
     },
     "metadata": {},
     "output_type": "display_data"
    },
    {
     "data": {
      "text/plain": [
       "['213800U6Q41HMWN2VX61',\n",
       " 'Signum Rated Limited',\n",
       " 'KY',\n",
       " 'GENERAL',\n",
       " None,\n",
       " '8888',\n",
       " 'Exempt Company',\n",
       " 'ACTIVE',\n",
       " '2003-11-19',\n",
       " 'RA000086',\n",
       " '130633']"
      ]
     },
     "metadata": {},
     "output_type": "display_data"
    },
    {
     "name": "stderr",
     "output_type": "stream",
     "text": [
      "Processing Records:  34%|███▍      | 34173/100000 [00:01<00:02, 28585.91record/s]"
     ]
    },
    {
     "name": "stdout",
     "output_type": "stream",
     "text": [
      "Assert False entity_data\n"
     ]
    },
    {
     "data": {
      "text/plain": [
       "['213800ZFBIQ29HS5DM68',\n",
       " 'KITHALPA RATED LIMITED',\n",
       " 'KY',\n",
       " 'GENERAL',\n",
       " None,\n",
       " '8888',\n",
       " 'Exempt Company',\n",
       " 'ACTIVE',\n",
       " '2009-02-06',\n",
       " 'RA000086',\n",
       " 'DB-222976']"
      ]
     },
     "metadata": {},
     "output_type": "display_data"
    },
    {
     "data": {
      "text/plain": [
       "['213800ZFBIQ29HS5DM68',\n",
       " 'KITHALPA RATED LIMITED',\n",
       " 'KY',\n",
       " 'GENERAL',\n",
       " None,\n",
       " '8888',\n",
       " 'Exempt Company',\n",
       " 'INACTIVE',\n",
       " '2009-02-06',\n",
       " 'RA000086',\n",
       " '222976']"
      ]
     },
     "metadata": {},
     "output_type": "display_data"
    },
    {
     "name": "stderr",
     "output_type": "stream",
     "text": [
      "Processing Records:  40%|███▉      | 39865/100000 [00:01<00:02, 26475.63record/s]"
     ]
    },
    {
     "name": "stdout",
     "output_type": "stream",
     "text": [
      "Assert False entity_data\n"
     ]
    },
    {
     "data": {
      "text/plain": [
       "['222100958E3H3WDMDH39',\n",
       " 'CP PARTNERS SPF S.A.',\n",
       " 'LU',\n",
       " 'GENERAL',\n",
       " None,\n",
       " '5GGB',\n",
       " None,\n",
       " 'ACTIVE',\n",
       " '2010-11-16',\n",
       " 'RA000432',\n",
       " 'B156635']"
      ]
     },
     "metadata": {},
     "output_type": "display_data"
    },
    {
     "data": {
      "text/plain": [
       "['222100958E3H3WDMDH39',\n",
       " 'CP PARTNERS SPF S.A.',\n",
       " 'LU',\n",
       " 'GENERAL',\n",
       " None,\n",
       " '5GGB',\n",
       " None,\n",
       " 'INACTIVE',\n",
       " '2010-11-16',\n",
       " 'RA000432',\n",
       " 'B156635']"
      ]
     },
     "metadata": {},
     "output_type": "display_data"
    },
    {
     "name": "stderr",
     "output_type": "stream",
     "text": [
      "Processing Records:  93%|█████████▎| 92503/100000 [00:03<00:00, 24971.74record/s]"
     ]
    },
    {
     "name": "stdout",
     "output_type": "stream",
     "text": [
      "Assert False entity_data\n"
     ]
    },
    {
     "data": {
      "text/plain": [
       "['2549006HP4R945EL7I72',\n",
       " 'SIDANA EXPORTS',\n",
       " 'IN',\n",
       " 'GENERAL',\n",
       " None,\n",
       " 'A0PS',\n",
       " None,\n",
       " 'ACTIVE',\n",
       " '2021-09-29',\n",
       " 'RA000754',\n",
       " '07AAOFR4838H1ZR']"
      ]
     },
     "metadata": {},
     "output_type": "display_data"
    },
    {
     "data": {
      "text/plain": [
       "['2549006HP4R945EL7I72',\n",
       " 'SIDANA EXPORTS',\n",
       " 'IN',\n",
       " 'GENERAL',\n",
       " None,\n",
       " 'A0PS',\n",
       " None,\n",
       " 'ACTIVE',\n",
       " '2001-09-19',\n",
       " 'RA000754',\n",
       " '07AAOFR4838H1ZR']"
      ]
     },
     "metadata": {},
     "output_type": "display_data"
    },
    {
     "name": "stderr",
     "output_type": "stream",
     "text": [
      "Processing Records: 100%|██████████| 100000/100000 [00:03<00:00, 25983.30record/s]\n",
      "Processing records: 100%|██████████| 100000/100000 [00:01<00:00, 56220.77it/s]\n",
      "Processing Records:   0%|          | 0/100000 [00:00<?, ?record/s]"
     ]
    },
    {
     "name": "stdout",
     "output_type": "stream",
     "text": [
      "Assert False hq_data\n"
     ]
    },
    {
     "data": {
      "text/plain": [
       "['213800U6Q41HMWN2VX61',\n",
       " 'Queensgate House',\n",
       " '113 South Church Street',\n",
       " None,\n",
       " None,\n",
       " 'George town',\n",
       " None,\n",
       " 'KY',\n",
       " 'KY1-1102']"
      ]
     },
     "metadata": {},
     "output_type": "display_data"
    },
    {
     "data": {
      "text/plain": [
       "['213800U6Q41HMWN2VX61',\n",
       " 'P. O. Box 1093 Queensgate House',\n",
       " '113 South Church Street',\n",
       " None,\n",
       " None,\n",
       " 'George town',\n",
       " None,\n",
       " 'KY',\n",
       " 'KY1-1102']"
      ]
     },
     "metadata": {},
     "output_type": "display_data"
    },
    {
     "name": "stderr",
     "output_type": "stream",
     "text": [
      "Processing Records:  32%|███▏      | 31509/100000 [00:00<00:01, 38798.97record/s]"
     ]
    },
    {
     "name": "stdout",
     "output_type": "stream",
     "text": [
      "Assert False hq_data\n"
     ]
    },
    {
     "data": {
      "text/plain": [
       "['213800ZB5IYL8NS49A91',\n",
       " '357a Amhurst Road',\n",
       " None,\n",
       " None,\n",
       " None,\n",
       " 'London',\n",
       " None,\n",
       " 'GB',\n",
       " 'N16 7UX']"
      ]
     },
     "metadata": {},
     "output_type": "display_data"
    },
    {
     "data": {
      "text/plain": [
       "['213800ZB5IYL8NS49A91',\n",
       " '28 Lordship Park 28 Lordship Park',\n",
       " None,\n",
       " None,\n",
       " None,\n",
       " 'London',\n",
       " 'GB-LND',\n",
       " 'GB',\n",
       " 'N16 5UD']"
      ]
     },
     "metadata": {},
     "output_type": "display_data"
    },
    {
     "name": "stderr",
     "output_type": "stream",
     "text": [
      "Processing Records:  51%|█████▏    | 51363/100000 [00:01<00:01, 37052.66record/s]"
     ]
    },
    {
     "name": "stdout",
     "output_type": "stream",
     "text": [
      "Assert False hq_data\n"
     ]
    },
    {
     "data": {
      "text/plain": [
       "['233000K4D2FT0PTGEV30',\n",
       " 'Ipoly utca 8. 6. em. 9. ajtó',\n",
       " None,\n",
       " None,\n",
       " None,\n",
       " 'Budapest',\n",
       " 'HU-BU',\n",
       " 'HU',\n",
       " '1133']"
      ]
     },
     "metadata": {},
     "output_type": "display_data"
    },
    {
     "data": {
      "text/plain": [
       "['233000K4D2FT0PTGEV30',\n",
       " 'Podmaniczky utca 57. 2. em. 14. ajtó',\n",
       " None,\n",
       " None,\n",
       " None,\n",
       " 'Budapest',\n",
       " 'HU-BU',\n",
       " 'HU',\n",
       " '1064']"
      ]
     },
     "metadata": {},
     "output_type": "display_data"
    },
    {
     "name": "stdout",
     "output_type": "stream",
     "text": [
      "Assert False hq_data\n"
     ]
    },
    {
     "data": {
      "text/plain": [
       "['253400FK33N26XQSXD38',\n",
       " 'ПЕР БОЛЬШОЙ ОВЧИННИКОВСКИЙ, дом 16',\n",
       " None,\n",
       " None,\n",
       " None,\n",
       " 'Москва',\n",
       " 'RU-MOW',\n",
       " 'RU',\n",
       " '115184']"
      ]
     },
     "metadata": {},
     "output_type": "display_data"
    },
    {
     "data": {
      "text/plain": [
       "['253400FK33N26XQSXD38',\n",
       " 'ПЕР. БОЛЬШОЙ ОВЧИННИКОВСКИЙ, Д. 16',\n",
       " None,\n",
       " None,\n",
       " None,\n",
       " 'Москва',\n",
       " 'RU-MOW',\n",
       " 'RU',\n",
       " '115184']"
      ]
     },
     "metadata": {},
     "output_type": "display_data"
    },
    {
     "name": "stdout",
     "output_type": "stream",
     "text": [
      "Assert False hq_data\n"
     ]
    },
    {
     "data": {
      "text/plain": [
       "['253400V4HY4PH2NE7E79',\n",
       " 'проезд Георгия Митирева, дом 11',\n",
       " None,\n",
       " None,\n",
       " None,\n",
       " 'Самара',\n",
       " 'RU-SAM',\n",
       " 'RU',\n",
       " '443079']"
      ]
     },
     "metadata": {},
     "output_type": "display_data"
    },
    {
     "data": {
      "text/plain": [
       "['253400V4HY4PH2NE7E79',\n",
       " 'проезд Митирева, д. 11',\n",
       " None,\n",
       " None,\n",
       " None,\n",
       " 'Самара',\n",
       " 'RU-SAM',\n",
       " 'RU',\n",
       " '443079']"
      ]
     },
     "metadata": {},
     "output_type": "display_data"
    },
    {
     "name": "stderr",
     "output_type": "stream",
     "text": [
      "Processing Records:  55%|█████▌    | 55074/100000 [00:01<00:01, 36453.02record/s]"
     ]
    },
    {
     "name": "stdout",
     "output_type": "stream",
     "text": [
      "Assert False hq_data\n"
     ]
    },
    {
     "data": {
      "text/plain": [
       "['253400XEMNQ5WBPN5635',\n",
       " 'улица Декабристов, дом 1',\n",
       " None,\n",
       " None,\n",
       " None,\n",
       " 'Казань',\n",
       " 'RU-TA',\n",
       " 'RU',\n",
       " '420066']"
      ]
     },
     "metadata": {},
     "output_type": "display_data"
    },
    {
     "data": {
      "text/plain": [
       "['253400XEMNQ5WBPN5635',\n",
       " 'ул Декабристов, дом 1',\n",
       " None,\n",
       " None,\n",
       " None,\n",
       " 'Казань',\n",
       " 'RU-TA',\n",
       " 'RU',\n",
       " '420066']"
      ]
     },
     "metadata": {},
     "output_type": "display_data"
    },
    {
     "name": "stderr",
     "output_type": "stream",
     "text": [
      "Processing Records: 100%|██████████| 100000/100000 [00:02<00:00, 36774.22record/s]\n",
      "Processing Records:   0%|          | 0/100000 [00:00<?, ?record/s]"
     ]
    },
    {
     "name": "stdout",
     "output_type": "stream",
     "text": [
      "Assert False legal_address_data\n"
     ]
    },
    {
     "data": {
      "text/plain": [
       "['213800U6Q41HMWN2VX61',\n",
       " 'Queensgate House',\n",
       " '113 South Church Street',\n",
       " None,\n",
       " None,\n",
       " 'George town',\n",
       " None,\n",
       " 'KY',\n",
       " 'KY1-1102']"
      ]
     },
     "metadata": {},
     "output_type": "display_data"
    },
    {
     "data": {
      "text/plain": [
       "['213800U6Q41HMWN2VX61',\n",
       " 'P. O. Box 1093 Queensgate House',\n",
       " '113 South Church Street',\n",
       " None,\n",
       " None,\n",
       " 'George town',\n",
       " None,\n",
       " 'KY',\n",
       " 'KY1-1102']"
      ]
     },
     "metadata": {},
     "output_type": "display_data"
    },
    {
     "name": "stderr",
     "output_type": "stream",
     "text": [
      "Processing Records:  33%|███▎      | 32598/100000 [00:00<00:01, 41350.13record/s]"
     ]
    },
    {
     "name": "stdout",
     "output_type": "stream",
     "text": [
      "Assert False legal_address_data\n"
     ]
    },
    {
     "data": {
      "text/plain": [
       "['213800ZB5IYL8NS49A91',\n",
       " '357a Amhurst Road',\n",
       " None,\n",
       " None,\n",
       " None,\n",
       " 'London',\n",
       " None,\n",
       " 'GB',\n",
       " 'N16 7UX']"
      ]
     },
     "metadata": {},
     "output_type": "display_data"
    },
    {
     "data": {
      "text/plain": [
       "['213800ZB5IYL8NS49A91',\n",
       " '28 Lordship Park 28 Lordship Park',\n",
       " None,\n",
       " None,\n",
       " None,\n",
       " 'London',\n",
       " 'GB-LND',\n",
       " 'GB',\n",
       " 'N16 5UD']"
      ]
     },
     "metadata": {},
     "output_type": "display_data"
    },
    {
     "name": "stderr",
     "output_type": "stream",
     "text": [
      "Processing Records:  50%|█████     | 50049/100000 [00:01<00:01, 41357.48record/s]"
     ]
    },
    {
     "name": "stdout",
     "output_type": "stream",
     "text": [
      "Assert False legal_address_data\n"
     ]
    },
    {
     "data": {
      "text/plain": [
       "['233000K4D2FT0PTGEV30',\n",
       " 'Ipoly utca 8. 6. em. 9. ajtó',\n",
       " None,\n",
       " None,\n",
       " None,\n",
       " 'Budapest',\n",
       " 'HU-BU',\n",
       " 'HU',\n",
       " '1133']"
      ]
     },
     "metadata": {},
     "output_type": "display_data"
    },
    {
     "data": {
      "text/plain": [
       "['233000K4D2FT0PTGEV30',\n",
       " 'Podmaniczky utca 57. 2. em. 14. ajtó',\n",
       " None,\n",
       " None,\n",
       " None,\n",
       " 'Budapest',\n",
       " 'HU-BU',\n",
       " 'HU',\n",
       " '1064']"
      ]
     },
     "metadata": {},
     "output_type": "display_data"
    },
    {
     "name": "stderr",
     "output_type": "stream",
     "text": [
      "Processing Records: 100%|██████████| 100000/100000 [00:02<00:00, 42103.83record/s]\n",
      "Processing records: 100%|██████████| 100000/100000 [00:01<00:00, 66592.36it/s]\n",
      "Processing Records: 100%|██████████| 100000/100000 [00:03<00:00, 27809.22record/s]\n",
      "Processing records: 100%|██████████| 100000/100000 [00:01<00:00, 58382.62it/s]\n",
      "Processing Records:   3%|▎         | 3354/100000 [00:00<00:02, 33530.36record/s]"
     ]
    },
    {
     "name": "stdout",
     "output_type": "stream",
     "text": [
      "Assert False hq_data\n"
     ]
    },
    {
     "data": {
      "text/plain": [
       "['25490084TGNK392DPW06',\n",
       " 'UNIT 501 AND 502 5TH FLOOR BUILDING 1B ECOSPACE SARJAPURA MARATHAHALLI',\n",
       " 'OUTER RING ROAD',\n",
       " None,\n",
       " None,\n",
       " 'Bangalore',\n",
       " 'IN-KA',\n",
       " 'IN',\n",
       " '560103']"
      ]
     },
     "metadata": {},
     "output_type": "display_data"
    },
    {
     "data": {
      "text/plain": [
       "['25490084TGNK392DPW06',\n",
       " 'UNIT 501 AND 502, 5TH FLOOR, BUILDING 1B, ECOSPACE SARJAPURA, MARATHAHALLI',\n",
       " 'OUTER RING ROAD',\n",
       " None,\n",
       " None,\n",
       " 'Bangalore',\n",
       " 'IN-KA',\n",
       " 'IN',\n",
       " '560103']"
      ]
     },
     "metadata": {},
     "output_type": "display_data"
    },
    {
     "name": "stderr",
     "output_type": "stream",
     "text": [
      "Processing Records:  55%|█████▌    | 55070/100000 [00:01<00:01, 40620.25record/s]"
     ]
    },
    {
     "name": "stdout",
     "output_type": "stream",
     "text": [
      "Assert False hq_data\n"
     ]
    },
    {
     "data": {
      "text/plain": [
       "['254900GRKDGG2HM83485',\n",
       " 'Måkekollen 206',\n",
       " None,\n",
       " None,\n",
       " None,\n",
       " 'KRÅKERØY',\n",
       " 'NO-30',\n",
       " 'NO',\n",
       " '1679']"
      ]
     },
     "metadata": {},
     "output_type": "display_data"
    },
    {
     "data": {
      "text/plain": [
       "['254900GRKDGG2HM83485',\n",
       " 'Einerbærveien 13',\n",
       " None,\n",
       " None,\n",
       " None,\n",
       " 'FREDRIKSTAD',\n",
       " 'NO-30',\n",
       " 'NO',\n",
       " '1615']"
      ]
     },
     "metadata": {},
     "output_type": "display_data"
    },
    {
     "name": "stderr",
     "output_type": "stream",
     "text": [
      "Processing Records: 100%|██████████| 100000/100000 [00:02<00:00, 40373.14record/s]\n",
      "Processing Records:  57%|█████▋    | 57383/100000 [00:01<00:00, 49771.91record/s]"
     ]
    },
    {
     "name": "stdout",
     "output_type": "stream",
     "text": [
      "Assert False legal_address_data\n"
     ]
    },
    {
     "data": {
      "text/plain": [
       "['254900GRKDGG2HM83485',\n",
       " 'Måkekollen 206',\n",
       " None,\n",
       " None,\n",
       " None,\n",
       " 'KRÅKERØY',\n",
       " 'NO-30',\n",
       " 'NO',\n",
       " '1679']"
      ]
     },
     "metadata": {},
     "output_type": "display_data"
    },
    {
     "data": {
      "text/plain": [
       "['254900GRKDGG2HM83485',\n",
       " 'Einerbærveien 13',\n",
       " None,\n",
       " None,\n",
       " None,\n",
       " 'FREDRIKSTAD',\n",
       " 'NO-30',\n",
       " 'NO',\n",
       " '1615']"
      ]
     },
     "metadata": {},
     "output_type": "display_data"
    },
    {
     "name": "stderr",
     "output_type": "stream",
     "text": [
      "Processing Records: 100%|██████████| 100000/100000 [00:02<00:00, 49896.67record/s]\n",
      "Processing records: 100%|██████████| 100000/100000 [00:01<00:00, 72385.91it/s]\n"
     ]
    }
   ],
   "source": [
    "obj_testing_level_1_data = Testing_Level_1_data()\n",
    "obj_testing_level_1_data.testing_level_1_data()"
   ]
  },
  {
   "cell_type": "code",
   "execution_count": 3,
   "metadata": {},
   "outputs": [],
   "source": [
    "obj_scraper_helpers = Scraper_helpers.Scraper_Helpers()\n",
    "obj_backfill_helpers = GLEIF_Backfill_Helpers.GLEIF_Backill_Helpers()\n",
    "obj_testing_level_1_data = Testing_Level_1_data()\n",
    "\n",
    "list_leis = obj_testing_level_1_data.get_lei_ids()"
   ]
  },
  {
   "cell_type": "code",
   "execution_count": null,
   "metadata": {},
   "outputs": [],
   "source": [
    "display(len(list_leis))"
   ]
  },
  {
   "cell_type": "code",
   "execution_count": null,
   "metadata": {},
   "outputs": [],
   "source": [
    "all_data = obj_testing_level_1_data.get_lei_data_limit(str_table_name = 'gleif_entity_data', max_rows=100000)\n",
    "display(all_data[0])"
   ]
  },
  {
   "cell_type": "code",
   "execution_count": null,
   "metadata": {},
   "outputs": [],
   "source": [
    "display(list_leis[0])"
   ]
  },
  {
   "cell_type": "code",
   "execution_count": null,
   "metadata": {},
   "outputs": [],
   "source": [
    "list_db_data = obj_testing_level_1_data.get_lei_data_limit(str_table_name = \"gleif_other_legal_names\")\n",
    "display(list_db_data)"
   ]
  },
  {
   "cell_type": "code",
   "execution_count": null,
   "metadata": {},
   "outputs": [],
   "source": [
    "display(obj_testing_level_1_data.get_dict_map(list_input = list_db_data))\n",
    "dict_db_data = obj_testing_level_1_data.get_dict_map(list_input = list_db_data)"
   ]
  },
  {
   "cell_type": "code",
   "execution_count": null,
   "metadata": {},
   "outputs": [],
   "source": [
    "display(dict_db_data[\"2138001DVAHXYVS7AM84\"])\n",
    "\n"
   ]
  },
  {
   "cell_type": "code",
   "execution_count": 7,
   "metadata": {},
   "outputs": [],
   "source": [
    "def testing_level_1_data(subset_size = 100000):\n",
    "    list_leis = obj_testing_level_1_data.get_lei_ids()\n",
    "    \n",
    "    list_batched = obj_testing_level_1_data.list_subset_create(list_input = list_leis , batch_size = subset_size)\n",
    "    #int_total_num_subsets = math.ceil(len(list_leis)/list_batched)\n",
    "    \n",
    "    for list_leis in list_batched:\n",
    "        list_all_data = obj_testing_level_1_data.multithread_lei_batches(list_leis = list_leis , batch_size = 200 , max_workers = 5) \n",
    "        list_all_data_flattened = [obj_backfill_helpers.flatten_dict(dict_input = dict_data) for dict_data in list_all_data]\n",
    "        list_all_data_flattened_sorted = obj_testing_level_1_data.sort_api_data(list_leis = list_leis , list_unsorted = list_all_data_flattened)\n",
    "        obj_testing_level_1_data.helper_test_gleif_entity_data(list_dict_flat = list_all_data_flattened_sorted)\n",
    "        obj_testing_level_1_data.helper_test_other_names_data(list_dict_flat = list_all_data_flattened_sorted)\n",
    "        obj_testing_level_1_data.helper_test_headquarters(list_dict_flat = list_all_data_flattened_sorted)\n",
    "        obj_testing_level_1_data.helper_test_legal_address(list_dict_flat = list_all_data_flattened_sorted)\n",
    "        obj_testing_level_1_data.helper_test_registration(list_dict_flat = list_all_data_flattened_sorted)\n",
    "        obj_testing_level_1_data.helper_test_legal_events(list_dict_flat = list_all_data_flattened_sorted)"
   ]
  },
  {
   "cell_type": "code",
   "execution_count": 17,
   "metadata": {},
   "outputs": [],
   "source": [
    "list_all_data = obj_testing_level_1_data.multithread_lei_batches(list_batched_leis = list_leis[0:100000] , batch_size = 200 , max_workers = 5)"
   ]
  },
  {
   "cell_type": "code",
   "execution_count": null,
   "metadata": {},
   "outputs": [],
   "source": [
    "display(len(list_all_data))"
   ]
  },
  {
   "cell_type": "code",
   "execution_count": null,
   "metadata": {},
   "outputs": [],
   "source": [
    "list_all_data_flattened = [obj_backfill_helpers.flatten_dict(dict_input = dict_data) for dict_data in list_all_data]\n",
    "list_all_data_flattened_sorted = obj_testing_level_1_data.sort_api_data(list_leis = list_leis[0:100000] , list_unsorted = list_all_data_flattened)"
   ]
  },
  {
   "cell_type": "code",
   "execution_count": 9,
   "metadata": {},
   "outputs": [],
   "source": [
    "import pickle"
   ]
  },
  {
   "cell_type": "code",
   "execution_count": 245,
   "metadata": {},
   "outputs": [],
   "source": [
    "with open(\"Dict_flat.pickle\" , \"wb\") as file:\n",
    "    pickle.dump(list_all_data_flattened_sorted , file)"
   ]
  },
  {
   "cell_type": "code",
   "execution_count": 10,
   "metadata": {},
   "outputs": [],
   "source": [
    "with open(\"Dict_flat.pickle\" , \"rb\") as file:\n",
    "    list_flat_use_case = pickle.load(file)"
   ]
  },
  {
   "cell_type": "code",
   "execution_count": null,
   "metadata": {},
   "outputs": [],
   "source": [
    "display(list_flat_use_case[6])"
   ]
  },
  {
   "cell_type": "code",
   "execution_count": null,
   "metadata": {},
   "outputs": [],
   "source": [
    "display(obj_backfill_helpers.extract_event_data(bool_test= True, dict_data = list_flat_use_case[6] , base_keyword = \"attributes_entity_eventGroups\" , target_keys=[\"groupType\", \"status\", \"type\", \"effectiveDate\", \"recordedDate\", \"validationDocuments\"]))"
   ]
  },
  {
   "cell_type": "code",
   "execution_count": null,
   "metadata": {},
   "outputs": [],
   "source": []
  },
  {
   "cell_type": "code",
   "execution_count": null,
   "metadata": {},
   "outputs": [],
   "source": [
    "from psycopg2 import sql\n",
    "from collections import defaultdict\n",
    "\n",
    "def get_lei_data_for_leis(self, str_table_name, list_leis):\n",
    "    \"\"\"\n",
    "    Fetch all rows from the specified table where 'lei' is in the provided list of LEIs.\n",
    "    \n",
    "    Args:\n",
    "        str_table_name (str): Name of the database table.\n",
    "        list_leis (list of str): List of LEI IDs to fetch records for.\n",
    "    \n",
    "    Returns:\n",
    "        list of lists: Each inner list represents a row from the table, excluding the first column.\n",
    "    \"\"\"\n",
    "    if not list_leis:\n",
    "        return []\n",
    "\n",
    "    # Establish connection\n",
    "    conn = psycopg2.connect(\n",
    "        dbname=\"GLEIF_test_db\",\n",
    "        user=\"Matthew_Pisinski\",\n",
    "        password=\"matt1\",\n",
    "        host=\"localhost\",\n",
    "        port=\"5432\"\n",
    "    )\n",
    "    cursor = conn.cursor()\n",
    "\n",
    "    # Dynamically create placeholders based on the number of LEIs\n",
    "    placeholders = ','.join(['%s'] * len(list_leis))\n",
    "    query = sql.SQL(\"SELECT * FROM {table} WHERE lei IN ({placeholders}) ORDER BY lei;\").format(\n",
    "        table=sql.Identifier(str_table_name),\n",
    "        placeholders=sql.SQL(placeholders)\n",
    "    )\n",
    "\n",
    "    # Execute the query with the list of LEIs as parameters\n",
    "    cursor.execute(query, list_leis)\n",
    "\n",
    "    results = cursor.fetchall()\n",
    "\n",
    "    # Convert each row to a list and exclude the first column if needed\n",
    "    all_data = [list(row)[1:] for row in results]\n",
    "\n",
    "\n",
    "    cursor.close()\n",
    "    conn.close()\n",
    "\n",
    "    return all_data\n"
   ]
  }
 ],
 "metadata": {
  "kernelspec": {
   "display_name": "venv",
   "language": "python",
   "name": "python3"
  },
  "language_info": {
   "codemirror_mode": {
    "name": "ipython",
    "version": 3
   },
   "file_extension": ".py",
   "mimetype": "text/x-python",
   "name": "python",
   "nbconvert_exporter": "python",
   "pygments_lexer": "ipython3",
   "version": "3.11.4"
  }
 },
 "nbformat": 4,
 "nbformat_minor": 2
}
