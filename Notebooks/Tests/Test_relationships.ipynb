{
 "cells": [
  {
   "cell_type": "code",
   "execution_count": 1,
   "metadata": {},
   "outputs": [],
   "source": [
    "import os\n",
    "import psycopg2\n",
    "import sys\n",
    "import concurrent.futures\n",
    "import time\n",
    "from tqdm import tqdm\n",
    "from datetime import datetime, timezone\n",
    "import math\n",
    "from collections import defaultdict\n",
    "import requests_tor\n",
    "import pickle\n",
    "import requests\n",
    "current_directory = os.getcwd()\n",
    "target_directory = os.path.abspath(os.path.join(current_directory, \"..\", \"..\"))\n",
    "sys.path.append(target_directory)\n",
    "\n",
    "from Production.Backfill import GLEIF_Backfill_Helpers , GLEIF_Backfill_Relationships\n"
   ]
  },
  {
   "cell_type": "code",
   "execution_count": 12,
   "metadata": {},
   "outputs": [],
   "source": [
    "class Testing_Level_2_Data:\n",
    "    def __init__(self):\n",
    "        \"\"\"self.rt = requests_tor.RequestsTor(tor_ports=(9000, 9001, 9002, 9003, 9004), tor_cport=9151, password=None,\n",
    "                 autochange_id=5, threads=8)\"\"\"\n",
    "        self.rt = requests_tor.RequestsTor(\n",
    "                    tor_ports=(9050, 9052, 9053, 9054, 9055),\n",
    "                    tor_cport=9051,\n",
    "                    autochange_id=1  # Change identity after each request\n",
    "                )\n",
    "        self.obj_backfill_helpers = GLEIF_Backfill_Helpers.GLEIF_Backill_Helpers()\n",
    "        self.obj_backfill_relationships = GLEIF_Backfill_Relationships.GLEIFLevel2Data() \n",
    "    \n",
    "    def get_dict_map(self , list_input):\n",
    "        dict_db_data = defaultdict(list)\n",
    "\n",
    "        for item in list_input:\n",
    "            dict_db_data[item[0]].append(item)\n",
    "    # Convert defaultdict to a regular dictionary (optional)\n",
    "        dict_db_data = dict(dict_db_data)\n",
    "\n",
    "        return dict_db_data \n",
    "    \n",
    "    def unify_date(self , date_str):\n",
    "        \"\"\"\n",
    "        If there's a 'T', parse the date-time, normalize to UTC, and return 'YYYY-MM-DD'.\n",
    "        Otherwise, assume it's already just 'YYYY-MM-DD' and return it as-is.\n",
    "        \"\"\"\n",
    "        if date_str is None:\n",
    "            return None\n",
    "\n",
    "        # If there's no 'T', skip time-zone parsing entirely\n",
    "        if 'T' not in date_str:\n",
    "            return date_str  # e.g. \"1969-04-17\"\n",
    "\n",
    "        try:\n",
    "            # Replace 'Z' with '+00:00' so Python recognizes the time zone\n",
    "            dt = datetime.fromisoformat(date_str.replace('Z', '+00:00'))\n",
    "            dt_utc = dt.astimezone(timezone.utc)\n",
    "            # Return just the date portion (YYYY-MM-DD)\n",
    "            return dt_utc.strftime('%Y-%m-%d')\n",
    "        except Exception as e:\n",
    "            print(f\"Error normalizing date '{date_str}': {e}\")\n",
    "            return date_str  # Fallback: return original string\n",
    "        \n",
    "    def clean_date_string(self , list_input , date_indexes , bool_many = False):\n",
    "        if bool_many == True:\n",
    "            for sublist in list_input:\n",
    "                #display(sublist)\n",
    "                for idx in date_indexes:\n",
    "                        sublist[idx] = (self.unify_date(sublist[idx]))\n",
    "        else:\n",
    "            for idx in date_indexes:\n",
    "                list_input[idx] = (self.unify_date(list_input[idx]))\n",
    "            \n",
    "        return list_input\n",
    "    \n",
    "    def norm_none(self , list_db_rel_date_clean):\n",
    "        #display(list_db_rel_date_clean)\n",
    "        for sublist in list_db_rel_date_clean:\n",
    "            #display(sublist)\n",
    "            sublist[:] = [None if val == 'None' else val for val in sublist]\n",
    "            \n",
    "        return list_db_rel_date_clean\n",
    "    \n",
    "    def get_all_lei_data(self , str_table_name):\n",
    "        conn = psycopg2.connect(\n",
    "                dbname=\"GLEIF_test_db\",\n",
    "                user=\"Matthew_Pisinski\",\n",
    "                password=\"matt1\",\n",
    "                host=\"localhost\",\n",
    "                port=\"5432\"\n",
    "            )\n",
    "        cursor = conn.cursor()\n",
    "\n",
    "        # Define the SQL query to fetch all rows, ordered by 'lei'\n",
    "        query = f\"SELECT * FROM {str_table_name};\"\n",
    "        cursor.execute(query)\n",
    "\n",
    "        # Retrieve all results\n",
    "        results = cursor.fetchall()\n",
    "\n",
    "        # Convert each row to a list and exclude the first column (e.g., an ID or primary key)\n",
    "        all_data = [list(row)[1:] for row in results]\n",
    "            \n",
    "        cursor.close()\n",
    "        conn.close()\n",
    "        \n",
    "        return all_data\n",
    "    \n",
    "    def get_ultimate_direct_keys(self , dict_level_2_data):\n",
    "        list_direct_keys = []\n",
    "        list_ultimate_keys = []\n",
    "\n",
    "        for key, value in dict_level_2_data.items():\n",
    "            if any(item[2] == \"IS_DIRECTLY_CONSOLIDATED_BY\" for item in value):\n",
    "                list_direct_keys.append(key)\n",
    "            if any(item[2] == \"IS_ULTIMATELY_CONSOLIDATED_BY\" for item in value):\n",
    "                list_ultimate_keys.append(key)\n",
    "                \n",
    "        return list_direct_keys , list_ultimate_keys\n",
    "    \n",
    "    def fetch_relationship_ultimate(self , rt , key):\n",
    "        \"\"\"\n",
    "        Fetch the ultimate-parent-relationship for a given LEI key.\n",
    "        Returns a tuple of (key, status_code).\n",
    "        \"\"\"\n",
    "        dict_return = {}\n",
    "        \n",
    "        url = f\"https://api.gleif.org/api/v1/lei-records/{key}/ultimate-parent-relationship\"\n",
    "        \n",
    "        try: \n",
    "            response = self.rt.get(url = url)\n",
    "        except (requests.exceptions.ConnectionError,\n",
    "                requests.exceptions.ProxyError):\n",
    "            time.sleep(45)\n",
    "            response = self.rt.get(url = url)\n",
    "        \n",
    "        if response.status_code == 200:\n",
    "            json = response.json()\n",
    "            dict_data = json[\"data\"]\n",
    "            dict_return[key] = dict_data\n",
    "            return dict_return\n",
    "        elif response.status_code == 429:\n",
    "            time.sleep(60)\n",
    "            dict_data = self.fetch_relationship_ultimate(rt , key)\n",
    "            return dict_data\n",
    "        elif response.status_code == 404:\n",
    "            dict_return[key] = None\n",
    "            return dict_return\n",
    "    \n",
    "    def fetch_relationship_direct(self , rt , key):\n",
    "        \"\"\"\n",
    "        Fetch the ultimate-parent-relationship for a given LEI key.\n",
    "        Returns a tuple of (key, status_code).\n",
    "        \"\"\"\n",
    "        dict_return = {}\n",
    "        \n",
    "        url = f\"https://api.gleif.org/api/v1/lei-records/{key}/direct-parent-relationship\"\n",
    "        \n",
    "        try: \n",
    "            response = self.rt.get(url = url)\n",
    "        except (requests.exceptions.ConnectionError,\n",
    "                requests.exceptions.ProxyError):\n",
    "            time.sleep(45)\n",
    "            response = self.rt.get(url = url)        \n",
    "        \n",
    "        if response.status_code == 200:\n",
    "            #display(\"ye\")\n",
    "            json = response.json()\n",
    "            dict_data = json[\"data\"]\n",
    "            dict_return[key] = dict_data\n",
    "            return dict_return\n",
    "        elif response.status_code == 429:\n",
    "            display(\"ye\")\n",
    "            time.sleep(60)\n",
    "            dict_return = self.fetch_relationship_direct(rt , key)\n",
    "            return dict_return\n",
    "        elif response.status_code == 404:\n",
    "            dict_return[key] = None\n",
    "            return dict_return\n",
    "        else:\n",
    "            display(response.status_code)\n",
    "            dict_return[key] = None\n",
    "            return dict_return\n",
    "        \n",
    "    def task_ultimate(self , key):\n",
    "            return self.fetch_relationship_ultimate(rt = self.rt, key = key)\n",
    "        \n",
    "    def task_direct(self , key):\n",
    "            return self.fetch_relationship_direct(rt = self.rt, key = key)\n",
    "    \n",
    "    def process_keys(self , keys, max_workers=10 , direct = False , ultimate = False):\n",
    "        \"\"\"\n",
    "        Process a list of keys using a ThreadPoolExecutor.\n",
    "        Returns an iterator of results (key, status_code).\n",
    "        \"\"\"\n",
    "\n",
    "        if ultimate:\n",
    "            with concurrent.futures.ThreadPoolExecutor(max_workers=max_workers) as executor:\n",
    "                # Map returns an iterator of results as they complete\n",
    "                results = executor.map(self.task_ultimate, keys)\n",
    "            \n",
    "                list_ultimate_relationship_api_dicts = {}\n",
    "                #for result in results:\n",
    "                for result in tqdm(results, total=len(keys), desc=\"Fetching Ultimate Parents\"):\n",
    "                    # Each result is a dictionary; update the combined_results\n",
    "                    list_ultimate_relationship_api_dicts.update(result)\n",
    "                return list_ultimate_relationship_api_dicts\n",
    "                \n",
    "        elif direct:\n",
    "            with concurrent.futures.ThreadPoolExecutor(max_workers=max_workers) as executor:\n",
    "            # Map returns an iterator of results as they complete\n",
    "                results = executor.map(self.task_direct, keys)\n",
    "                \n",
    "                list_direct_relationship_api_dicts = {}\n",
    "                #for result in results:\n",
    "                for result in tqdm(results, total=len(keys), desc=\"Fetching Direct Parents\"):\n",
    "                    # Each result is a dictionary; update the combined_results\n",
    "                    list_direct_relationship_api_dicts.update(result)\n",
    "                return list_direct_relationship_api_dicts\n",
    "            \n",
    "    \n",
    "    def testing_relationship_data(self , dict_api_direct_relationships , dict_api_ultimate_relationships , ultimate = False , direct = False):\n",
    "        list_db_relationship_data = self.get_all_lei_data(str_table_name = \"gleif_relationship_data\")\n",
    "        dict_db_data = self.get_dict_map(list_input = list_db_relationship_data)\n",
    "        \n",
    "        if ultimate:\n",
    "            dict_api_test = dict_api_ultimate_relationships\n",
    "        if direct:\n",
    "            dict_api_test = dict_api_direct_relationships\n",
    "\n",
    "        \n",
    "        for key in dict_api_test:\n",
    "            try:\n",
    "                list_db_rel_partial = dict_db_data[key]\n",
    "\n",
    "                if ultimate:\n",
    "                    has_ultimate_rel = any(row[2] == \"IS_ULTIMATELY_CONSOLIDATED_BY\" for row in list_db_rel_partial)\n",
    "                    # If there is NO row with \"IS_ULTIMATELY_CONSOLIDATED_BY\", skip rest of loop\n",
    "                    if not has_ultimate_rel:\n",
    "                        continue\n",
    "\n",
    "                if direct:\n",
    "                    has_direct_rel = any(row[2] == \"IS_DIRECTLY_CONSOLIDATED_BY\" for row in list_db_rel_partial)\n",
    "                    # If there is NO row with \"IS_DIRECTLY_CONSOLIDATED_BY\", skip rest of loop\n",
    "                    if not has_direct_rel:\n",
    "                        continue\n",
    "                \n",
    "                dict_api_data = dict_api_test[key]\n",
    "                dict_flat_api_data = self.obj_backfill_helpers.flatten_dict(dict_input = dict_api_data)\n",
    "                list_api_data = self.obj_backfill_helpers.get_target_values(dict_data = dict_flat_api_data, target_keys = [\"attributes_relationship_startNode_id\" , \"attributes_relationship_endNode_id\" , \"attributes_relationship_type\" , \"attributes_relationship_status\" , \"attributes_registration_status\" , \"attributes_registration_initialRegistrationDate\" , \"attributes_registration_lastUpdateDate\" , \"attributes_registration_nextRenewalDate\" , \"attributes_registration_managingLou\" , \"attributes_registration_corroborationLevel\" , \"attributes_registration_corroborationDocuments\" , \"attributes_registration_corroborationReference\"])\n",
    "                list_clean_api_data = self.obj_backfill_relationships.clean_url(list_input = list_api_data)\n",
    "                \n",
    "                lst_indexes = [5,6,7]\n",
    "                \n",
    "                \n",
    "                list_db_rel_date_clean = self.clean_date_string(bool_many = True , date_indexes = lst_indexes , list_input = list_db_rel_partial)\n",
    "                list_db_rel_date_clean = self.norm_none(list_db_rel_date_clean = list_db_rel_date_clean)\n",
    "                \n",
    "                list_date_clean_api_data = self.clean_date_string(bool_many = False , date_indexes = lst_indexes , list_input = list_clean_api_data)\n",
    "                if list_date_clean_api_data not in list_db_rel_date_clean:\n",
    "                    \n",
    "                    print(\"The single list is NOT present in the list of lists.\")\n",
    "                    display(list_db_rel_date_clean)\n",
    "                    display(list_date_clean_api_data)\n",
    "            \n",
    "            except KeyError:\n",
    "                pass\n",
    "            \n",
    "    def testing_relationship_date_data(self , dict_api_direct_relationships , dict_api_ultimate_relationships , ultimate = False , direct = True):\n",
    "        list_db_relationship_data = self.get_all_lei_data(str_table_name = \"gleif_relationship_date_data\")\n",
    "        dict_db_data = self.get_dict_map(list_input = list_db_relationship_data)\n",
    "            \n",
    "        if ultimate:\n",
    "            dict_api_test = dict_api_ultimate_relationships\n",
    "        elif direct:\n",
    "            dict_api_test = dict_api_direct_relationships\n",
    "        #display(dict_api_test)\n",
    "        \n",
    "        for key in dict_api_test:\n",
    "            try:\n",
    "                list_db_rel_partial = dict_db_data[key]\n",
    "                #display(f\"1 .{key}\")\n",
    "                #display(f\"2. {list_db_rel_partial}\")\n",
    "                \n",
    "                \n",
    "                if ultimate:\n",
    "                    has_ultimate_rel = any(row[2] == \"IS_ULTIMATELY_CONSOLIDATED_BY\" for row in list_db_rel_partial)\n",
    "                    # If there is NO row with \"IS_ULTIMATELY_CONSOLIDATED_BY\", skip rest of loop\n",
    "                    if not has_ultimate_rel:\n",
    "                        continue\n",
    "\n",
    "                if direct:\n",
    "                    has_direct_rel = any(row[2] == \"IS_DIRECTLY_CONSOLIDATED_BY\" for row in list_db_rel_partial)\n",
    "                    # If there is NO row with \"IS_DIRECTLY_CONSOLIDATED_BY\", skip rest of loop\n",
    "                    if not has_direct_rel:\n",
    "                        continue\n",
    "                \n",
    "                dict_api_data = dict_api_test[key]\n",
    "                \n",
    "                #display(f\"3. {dict_api_data}\")\n",
    "                dict_flat_api_data = self.obj_backfill_helpers.flatten_dict(dict_input = dict_api_data)    \n",
    "                list_api_dates = self.obj_backfill_helpers.extract_event_data(bool_test = True , dict_data = dict_flat_api_data , base_keyword = \"attributes_relationship_periods\" , target_keys = [\"startDate\" , \"endDate\" , \"type\"])\n",
    "                list_unique_keys = self.obj_backfill_helpers.get_target_values(dict_data = dict_flat_api_data, target_keys = [\"attributes_relationship_startNode_id\" , \"attributes_relationship_endNode_id\" , \"attributes_relationship_type\"])\n",
    "                list_api_dates_with_keys = [[*list_unique_keys, *list] for list in list_api_dates]\n",
    "                #display(f\"4. {list_api_dates_with_keys}\")\n",
    "                    \n",
    "                list_api_dates_with_keys_clean = self.clean_date_string(bool_many = True , date_indexes = [3, 4] , list_input = list_api_dates_with_keys)\n",
    "                list_db_dates_with_keys_clean = self.clean_date_string(bool_many = True , date_indexes = [3, 4] , list_input = list_db_rel_partial)\n",
    "                #display(list_api_dates_with_keys_clean)\n",
    "                \n",
    "                list_db_dates_none_norm = self.norm_none(list_db_rel_date_clean = list_db_dates_with_keys_clean)\n",
    "                \n",
    "                for list_api_date in list_api_dates_with_keys_clean:\n",
    "                    \n",
    "                    if list_api_date not in list_db_dates_none_norm:\n",
    "                        print(\"Fail\")\n",
    "                        display(f\"5. {list_db_dates_with_keys_clean}\")\n",
    "                        display(f\"6. {list_api_date}\")\n",
    "                        \n",
    "            except KeyError:\n",
    "                    pass\n",
    "    \n",
    "    def test_level_2_data(self):\n",
    "        list_level_2 = self.get_all_lei_data(str_table_name = \"gleif_relationship_data\")\n",
    "        dict_return = self.get_dict_map(list_input = list_level_2)\n",
    "        list_direct_keys , list_ultimate_keys = self.get_ultimate_direct_keys(dict_return)\n",
    "        dict_api_ultimate_relationships = self.process_keys(keys = list_ultimate_keys, max_workers = 100 , ultimate = True)\n",
    "        print(\"Processed the ultimate relationships\")\n",
    "        dict_api_direct_relationships = self.process_keys(keys = list_direct_keys, max_workers = 75 , direct = True)\n",
    "        print(\"Processed the direct relationships\")\n",
    "        self.testing_relationship_date_data(dict_api_direct_relationships = dict_api_direct_relationships, dict_api_ultimate_relationships = dict_api_ultimate_relationships , ultimate = True)"
   ]
  },
  {
   "cell_type": "markdown",
   "metadata": {},
   "source": [
    "breaking down testing for sake of simplicity"
   ]
  },
  {
   "cell_type": "code",
   "execution_count": 13,
   "metadata": {},
   "outputs": [],
   "source": [
    "obj_testing_level_2 = Testing_Level_2_Data()"
   ]
  },
  {
   "cell_type": "code",
   "execution_count": 4,
   "metadata": {},
   "outputs": [],
   "source": [
    "list_level_2 = obj_testing_level_2.get_all_lei_data(str_table_name = \"gleif_relationship_data\")\n",
    "dict_return = obj_testing_level_2.get_dict_map(list_input = list_level_2)\n",
    "list_direct_keys , list_ultimate_keys = obj_testing_level_2.get_ultimate_direct_keys(dict_return)"
   ]
  },
  {
   "cell_type": "code",
   "execution_count": 5,
   "metadata": {},
   "outputs": [
    {
     "name": "stderr",
     "output_type": "stream",
     "text": [
      "Fetching Ultimate Parents: 100%|██████████| 125004/125004 [1:26:27<00:00, 24.10it/s]   "
     ]
    },
    {
     "name": "stdout",
     "output_type": "stream",
     "text": [
      "Processed the ultimate relationships\n"
     ]
    },
    {
     "name": "stderr",
     "output_type": "stream",
     "text": [
      "\n"
     ]
    }
   ],
   "source": [
    "dict_api_ultimate_relationships = obj_testing_level_2.process_keys(keys = list_ultimate_keys, max_workers = 100 , ultimate = True)\n",
    "print(\"Processed the ultimate relationships\")\n"
   ]
  },
  {
   "cell_type": "code",
   "execution_count": 6,
   "metadata": {},
   "outputs": [],
   "source": [
    "with open(\"dict_api_ultimate_relationships.pickle\", \"wb\") as file:\n",
    "    pickle.dump(dict_api_ultimate_relationships , file)"
   ]
  },
  {
   "cell_type": "code",
   "execution_count": 7,
   "metadata": {},
   "outputs": [
    {
     "name": "stderr",
     "output_type": "stream",
     "text": [
      "Fetching Direct Parents:  27%|██▋       | 32170/119537 [31:39<57:51, 25.17it/s]    "
     ]
    },
    {
     "data": {
      "text/plain": [
       "408"
      ]
     },
     "metadata": {},
     "output_type": "display_data"
    },
    {
     "name": "stderr",
     "output_type": "stream",
     "text": [
      "Fetching Direct Parents:  57%|█████▋    | 68703/119537 [1:05:22<1:06:20, 12.77it/s]"
     ]
    },
    {
     "data": {
      "text/plain": [
       "408"
      ]
     },
     "metadata": {},
     "output_type": "display_data"
    },
    {
     "name": "stderr",
     "output_type": "stream",
     "text": [
      "Fetching Direct Parents: 100%|██████████| 119537/119537 [1:51:02<00:00, 17.94it/s]  "
     ]
    },
    {
     "name": "stdout",
     "output_type": "stream",
     "text": [
      "Processed the direct relationships\n"
     ]
    },
    {
     "name": "stderr",
     "output_type": "stream",
     "text": [
      "\n"
     ]
    }
   ],
   "source": [
    "dict_api_direct_relationships = obj_testing_level_2.process_keys(keys = list_direct_keys, max_workers = 75 , direct = True)\n",
    "print(\"Processed the direct relationships\")"
   ]
  },
  {
   "cell_type": "code",
   "execution_count": 8,
   "metadata": {},
   "outputs": [],
   "source": [
    "with open(\"dict_api_direct_relationships.pickle\", \"wb\") as file:\n",
    "    pickle.dump(dict_api_direct_relationships , file)"
   ]
  },
  {
   "cell_type": "code",
   "execution_count": 9,
   "metadata": {},
   "outputs": [],
   "source": [
    "obj_testing_level_2.testing_relationship_date_data(dict_api_direct_relationships = dict_api_direct_relationships, dict_api_ultimate_relationships = dict_api_ultimate_relationships , ultimate = True)"
   ]
  },
  {
   "cell_type": "code",
   "execution_count": 10,
   "metadata": {},
   "outputs": [],
   "source": [
    "obj_testing_level_2.testing_relationship_date_data(dict_api_direct_relationships = dict_api_direct_relationships, dict_api_ultimate_relationships = dict_api_ultimate_relationships , direct = True)"
   ]
  },
  {
   "cell_type": "code",
   "execution_count": 14,
   "metadata": {},
   "outputs": [
    {
     "name": "stdout",
     "output_type": "stream",
     "text": [
      "The single list is NOT present in the list of lists.\n"
     ]
    },
    {
     "data": {
      "text/plain": [
       "[['894500XX5OA3YNLPWX75',\n",
       "  '894500W4SOR74FO6EP09',\n",
       "  'IS_ULTIMATELY_CONSOLIDATED_BY',\n",
       "  'ACTIVE',\n",
       "  'PUBLISHED',\n",
       "  '2018-01-25',\n",
       "  '2023-12-21',\n",
       "  '2025-01-25',\n",
       "  '529900F6BNUR3RJ2WH29',\n",
       "  'FULLY_CORROBORATED',\n",
       "  'ACCOUNTS_FILING',\n",
       "  None],\n",
       " ['894500XX5OA3YNLPWX75',\n",
       "  '894500W4SOR74FO6EP09',\n",
       "  'IS_DIRECTLY_CONSOLIDATED_BY',\n",
       "  'ACTIVE',\n",
       "  'PUBLISHED',\n",
       "  '2018-01-25',\n",
       "  '2023-12-21',\n",
       "  '2025-01-25',\n",
       "  '529900F6BNUR3RJ2WH29',\n",
       "  'FULLY_CORROBORATED',\n",
       "  'ACCOUNTS_FILING',\n",
       "  None]]"
      ]
     },
     "metadata": {},
     "output_type": "display_data"
    },
    {
     "data": {
      "text/plain": [
       "[None, None, None, None, None, None, None, None, None, None, None, None]"
      ]
     },
     "metadata": {},
     "output_type": "display_data"
    }
   ],
   "source": [
    "obj_testing_level_2.testing_relationship_data(dict_api_direct_relationships = dict_api_direct_relationships, dict_api_ultimate_relationships = dict_api_ultimate_relationships , ultimate = True)"
   ]
  },
  {
   "cell_type": "code",
   "execution_count": 15,
   "metadata": {},
   "outputs": [
    {
     "name": "stdout",
     "output_type": "stream",
     "text": [
      "The single list is NOT present in the list of lists.\n"
     ]
    },
    {
     "data": {
      "text/plain": [
       "[['3H2I07NS6N93ZGJR4K79',\n",
       "  '549300XG5755WCBILJ54',\n",
       "  'IS_DIRECTLY_CONSOLIDATED_BY',\n",
       "  'ACTIVE',\n",
       "  'LAPSED',\n",
       "  '2012-10-29',\n",
       "  '2024-12-16',\n",
       "  '2024-05-02',\n",
       "  '213800WAVVOPS85N2205',\n",
       "  'FULLY_CORROBORATED',\n",
       "  'SUPPORTING_DOCUMENTS',\n",
       "  None],\n",
       " ['3H2I07NS6N93ZGJR4K79',\n",
       "  '784F5XWPLTWKTBV3E584',\n",
       "  'IS_ULTIMATELY_CONSOLIDATED_BY',\n",
       "  'ACTIVE',\n",
       "  'LAPSED',\n",
       "  '2012-10-29',\n",
       "  '2024-12-16',\n",
       "  '2024-05-02',\n",
       "  '213800WAVVOPS85N2205',\n",
       "  'FULLY_CORROBORATED',\n",
       "  'ACCOUNTS_FILING',\n",
       "  None]]"
      ]
     },
     "metadata": {},
     "output_type": "display_data"
    },
    {
     "data": {
      "text/plain": [
       "[None, None, None, None, None, None, None, None, None, None, None, None]"
      ]
     },
     "metadata": {},
     "output_type": "display_data"
    },
    {
     "name": "stdout",
     "output_type": "stream",
     "text": [
      "The single list is NOT present in the list of lists.\n"
     ]
    },
    {
     "data": {
      "text/plain": [
       "[['549300KHKDFDA21C3X60',\n",
       "  '549300XXD0YL0AER3Z82',\n",
       "  'IS_DIRECTLY_CONSOLIDATED_BY',\n",
       "  'ACTIVE',\n",
       "  'LAPSED',\n",
       "  '2022-03-29',\n",
       "  '2024-04-21',\n",
       "  '2024-04-20',\n",
       "  '5493001KJTIIGC8Y1R12',\n",
       "  'ENTITY_SUPPLIED_ONLY',\n",
       "  'SUPPORTING_DOCUMENTS',\n",
       "  None],\n",
       " ['549300KHKDFDA21C3X60',\n",
       "  '549300XXD0YL0AER3Z82',\n",
       "  'IS_ULTIMATELY_CONSOLIDATED_BY',\n",
       "  'ACTIVE',\n",
       "  'LAPSED',\n",
       "  '2022-03-29',\n",
       "  '2024-04-21',\n",
       "  '2024-04-20',\n",
       "  '5493001KJTIIGC8Y1R12',\n",
       "  'FULLY_CORROBORATED',\n",
       "  'ACCOUNTS_FILING',\n",
       "  'https://www.sec.gov/ix?doc=/Archives/edgar/data/1029800/000102980022000008/form10k2021.htm']]"
      ]
     },
     "metadata": {},
     "output_type": "display_data"
    },
    {
     "data": {
      "text/plain": [
       "[None, None, None, None, None, None, None, None, None, None, None, None]"
      ]
     },
     "metadata": {},
     "output_type": "display_data"
    },
    {
     "name": "stdout",
     "output_type": "stream",
     "text": [
      "The single list is NOT present in the list of lists.\n"
     ]
    },
    {
     "data": {
      "text/plain": [
       "[['894500XX5OA3YNLPWX75',\n",
       "  '894500W4SOR74FO6EP09',\n",
       "  'IS_ULTIMATELY_CONSOLIDATED_BY',\n",
       "  'ACTIVE',\n",
       "  'PUBLISHED',\n",
       "  '2018-01-25',\n",
       "  '2023-12-21',\n",
       "  '2025-01-25',\n",
       "  '529900F6BNUR3RJ2WH29',\n",
       "  'FULLY_CORROBORATED',\n",
       "  'ACCOUNTS_FILING',\n",
       "  None],\n",
       " ['894500XX5OA3YNLPWX75',\n",
       "  '894500W4SOR74FO6EP09',\n",
       "  'IS_DIRECTLY_CONSOLIDATED_BY',\n",
       "  'ACTIVE',\n",
       "  'PUBLISHED',\n",
       "  '2018-01-25',\n",
       "  '2023-12-21',\n",
       "  '2025-01-25',\n",
       "  '529900F6BNUR3RJ2WH29',\n",
       "  'FULLY_CORROBORATED',\n",
       "  'ACCOUNTS_FILING',\n",
       "  None]]"
      ]
     },
     "metadata": {},
     "output_type": "display_data"
    },
    {
     "data": {
      "text/plain": [
       "[None, None, None, None, None, None, None, None, None, None, None, None]"
      ]
     },
     "metadata": {},
     "output_type": "display_data"
    }
   ],
   "source": [
    "obj_testing_level_2.testing_relationship_data(dict_api_direct_relationships = dict_api_direct_relationships, dict_api_ultimate_relationships = dict_api_ultimate_relationships , direct = True)"
   ]
  },
  {
   "cell_type": "code",
   "execution_count": null,
   "metadata": {},
   "outputs": [],
   "source": [
    "obj_testing_level_2 = Testing_Level_2_Data()\n",
    "obj_testing_level_2.test_level_2_data()"
   ]
  },
  {
   "cell_type": "code",
   "execution_count": null,
   "metadata": {},
   "outputs": [],
   "source": [
    "obj_testing_level_2 = Testing_Level_2_Data()\n",
    "obj_backfill_helpers = GLEIF_Backfill_Helpers.GLEIF_Backill_Helpers()\n",
    "obj_backfill_helpers = GLEIF_Backfill_Helpers.GLEIF_Backill_Helpers()\n",
    "list_level_2 = obj_testing_level_2.get_all_lei_data(str_table_name = \"gleif_relationship_data\")\n",
    "display(list_level_2)\n",
    "dict_return = (obj_testing_level_2.get_dict_map(list_input = list_level_2))\n",
    "display(dict_return)\n",
    "display(len(dict_return))"
   ]
  },
  {
   "cell_type": "code",
   "execution_count": 4,
   "metadata": {},
   "outputs": [],
   "source": [
    "list_direct_keys , list_ultimate_keys = obj_testing_level_2.get_ultimate_direct_keys(dict_return)"
   ]
  },
  {
   "cell_type": "code",
   "execution_count": null,
   "metadata": {},
   "outputs": [],
   "source": [
    "display(len(list_direct_keys))\n",
    "display(len(list_ultimate_keys))"
   ]
  },
  {
   "cell_type": "code",
   "execution_count": 6,
   "metadata": {},
   "outputs": [],
   "source": [
    "#dict_api_ultimate_relationships = obj_testing_level_2.process_keys(keys = list_ultimate_keys, max_workers = 100 , ultimate = True)\n",
    "#with open(\"dict_api_ultimate_relationships.pickle\", \"wb\") as file:\n",
    "    #pickle.dump(dict_api_ultimate_relationships , file)\n",
    "#dict_api_direct_relationships = obj_testing_level_2.process_keys(keys = list_direct_keys, max_workers = 75 , direct = True)\n",
    "#with open(\"dict_api_direct_relationships.pickle\", \"wb\") as file:\n",
    "    #pickle.dump(dict_api_direct_relationships , file)"
   ]
  },
  {
   "cell_type": "code",
   "execution_count": 7,
   "metadata": {},
   "outputs": [],
   "source": [
    "with open(\"dict_api_ultimate_relationships.pickle\", \"rb\") as file:\n",
    "    dict_api_ultimate_relationships = pickle.load(file)\n",
    "    \n",
    "with open(\"dict_api_direct_relationships.pickle\", \"rb\") as file:\n",
    "    dict_api_direct_relationships = pickle.load(file)"
   ]
  },
  {
   "cell_type": "code",
   "execution_count": null,
   "metadata": {},
   "outputs": [],
   "source": [
    "obj_testing_level_2.testing_relationship_date_data(dict_api_direct_relationships = dict_api_direct_relationships, dict_api_ultimate_relationships = dict_api_ultimate_relationships , ultimate = True)"
   ]
  },
  {
   "cell_type": "markdown",
   "metadata": {},
   "source": [
    "Testing around on stuff in case it breaks"
   ]
  },
  {
   "cell_type": "code",
   "execution_count": 17,
   "metadata": {},
   "outputs": [
    {
     "data": {
      "text/plain": [
       "{'errors': [{'status': '404',\n",
       "   'title': 'Resource not found',\n",
       "   'detail': 'Related resource not found'}]}"
      ]
     },
     "metadata": {},
     "output_type": "display_data"
    }
   ],
   "source": [
    "url = f\"https://api.gleif.org/api/v1/lei-records/894500XX5OA3YNLPWX75/direct-parent-relationship\"\n",
    "        \n",
    "response = requests.get(url = url)\n",
    "display(response.json())"
   ]
  },
  {
   "cell_type": "code",
   "execution_count": 18,
   "metadata": {},
   "outputs": [
    {
     "data": {
      "text/plain": [
       "{'errors': [{'status': '404',\n",
       "   'title': 'Resource not found',\n",
       "   'detail': 'Related resource not found'}]}"
      ]
     },
     "metadata": {},
     "output_type": "display_data"
    }
   ],
   "source": [
    "url = f\"https://api.gleif.org/api/v1/lei-records/894500XX5OA3YNLPWX75/ultimate-parent-relationship\"\n",
    "        \n",
    "response = requests.get(url = url)\n",
    "display(response.json())"
   ]
  },
  {
   "cell_type": "code",
   "execution_count": null,
   "metadata": {},
   "outputs": [],
   "source": []
  }
 ],
 "metadata": {
  "kernelspec": {
   "display_name": "venv",
   "language": "python",
   "name": "python3"
  },
  "language_info": {
   "codemirror_mode": {
    "name": "ipython",
    "version": 3
   },
   "file_extension": ".py",
   "mimetype": "text/x-python",
   "name": "python",
   "nbconvert_exporter": "python",
   "pygments_lexer": "ipython3",
   "version": "3.11.4"
  }
 },
 "nbformat": 4,
 "nbformat_minor": 2
}
